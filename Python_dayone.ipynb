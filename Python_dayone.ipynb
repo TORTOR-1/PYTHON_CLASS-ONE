{
 "cells": [
  {
   "cell_type": "code",
   "execution_count": null,
   "id": "428d0498",
   "metadata": {},
   "outputs": [],
   "source": []
  },
  {
   "cell_type": "code",
   "execution_count": null,
   "id": "0d9fbaa6",
   "metadata": {},
   "outputs": [],
   "source": [
    "part one\n",
    "- Data types\n",
    "- Variables\n",
    "- Lists and arrays\n",
    "- Indexing and slicing \n",
    "- Conditionals\n",
    "- Strings and array methods\n",
    "- loops (Forloops and while Loops)\n",
    "- functions\n",
    "- Dictionaries\n",
    "- classes and objects"
   ]
  },
  {
   "cell_type": "code",
   "execution_count": null,
   "id": "6fb08738",
   "metadata": {},
   "outputs": [],
   "source": [
    "Part two\n",
    "- Pandas and numpys\n",
    "- time, date and math libraries\n",
    "- visualization (seaborns and matplotlib)\n"
   ]
  },
  {
   "cell_type": "code",
   "execution_count": null,
   "id": "37d5bffe",
   "metadata": {},
   "outputs": [],
   "source": [
    "Part three (python for data science):\n",
    "    - Data loading\n",
    "    - Data cleaning and data wrangling\n",
    "    - Answering buisness intelligence questions with python\n",
    "    - correlation analysis univariate and bi-variate analysis\n",
    "    - feature engineering \n",
    "    - introduction to predictive modelling (Linear and ploymial regression, logistictic regression and Time series)\n",
    "    - machine learning concepts (supervised and unsupervised learning)"
   ]
  },
  {
   "cell_type": "code",
   "execution_count": null,
   "id": "07405398",
   "metadata": {},
   "outputs": [],
   "source": [
    "part four (frameworks and apis):\n",
    "- python flask\n",
    "- rest and fast api\n",
    "- integrating postgresql (sql automation) in python\n",
    "- extraction transformation and loading (ETL processes with python)"
   ]
  },
  {
   "cell_type": "code",
   "execution_count": null,
   "id": "16227545",
   "metadata": {},
   "outputs": [],
   "source": [
    "job description after the learning \n",
    "- Data scientist, analyst, \n",
    "- backend engineer,\n",
    "- analytics engineer,\n",
    "- buisness intelligence engineer,\n",
    "- data engineer and machine learning engineer"
   ]
  },
  {
   "cell_type": "markdown",
   "id": "f90299dd",
   "metadata": {},
   "source": [
    "# Lets code"
   ]
  },
  {
   "cell_type": "code",
   "execution_count": null,
   "id": "5f2b7e8f",
   "metadata": {},
   "outputs": [],
   "source": [
    "-strings, numeric data and type (integers, floats), booleans (True/False)"
   ]
  },
  {
   "cell_type": "code",
   "execution_count": 1,
   "id": "2d0ee1e0",
   "metadata": {},
   "outputs": [
    {
     "name": "stdout",
     "output_type": "stream",
     "text": [
      "hello class\n"
     ]
    }
   ],
   "source": [
    "print (\"hello class!\")"
   ]
  },
  {
   "cell_type": "code",
   "execution_count": 4,
   "id": "166a3fa5",
   "metadata": {},
   "outputs": [
    {
     "name": "stdout",
     "output_type": "stream",
     "text": [
      "<class 'str'>\n"
     ]
    }
   ],
   "source": [
    "print (type(\"Hello class!\"))"
   ]
  },
  {
   "cell_type": "code",
   "execution_count": 5,
   "id": "31cc308b",
   "metadata": {},
   "outputs": [
    {
     "name": "stdout",
     "output_type": "stream",
     "text": [
      "my name is jake and i am 5 years old!\n"
     ]
    }
   ],
   "source": [
    "print(\"my name is jake and i am 5 years old!\")"
   ]
  },
  {
   "cell_type": "code",
   "execution_count": 6,
   "id": "10c8779f",
   "metadata": {},
   "outputs": [
    {
     "name": "stdout",
     "output_type": "stream",
     "text": [
      "105\n"
     ]
    }
   ],
   "source": [
    "print(\"10\" + \"5\") "
   ]
  },
  {
   "cell_type": "code",
   "execution_count": 7,
   "id": "1ac658a1",
   "metadata": {},
   "outputs": [
    {
     "name": "stdout",
     "output_type": "stream",
     "text": [
      "13.9\n"
     ]
    }
   ],
   "source": [
    "print (10.9 + 3)"
   ]
  },
  {
   "cell_type": "code",
   "execution_count": 8,
   "id": "a5d1d73a",
   "metadata": {},
   "outputs": [
    {
     "name": "stdout",
     "output_type": "stream",
     "text": [
      "True\n"
     ]
    }
   ],
   "source": [
    "print (5==5)"
   ]
  },
  {
   "cell_type": "code",
   "execution_count": 9,
   "id": "f214f018",
   "metadata": {},
   "outputs": [
    {
     "name": "stdout",
     "output_type": "stream",
     "text": [
      "True\n"
     ]
    }
   ],
   "source": [
    "print (10==(2*5))"
   ]
  },
  {
   "cell_type": "code",
   "execution_count": 10,
   "id": "222531f6",
   "metadata": {},
   "outputs": [
    {
     "name": "stdout",
     "output_type": "stream",
     "text": [
      "<class 'str'>\n"
     ]
    }
   ],
   "source": [
    "print (type(\"true\"))"
   ]
  },
  {
   "cell_type": "code",
   "execution_count": 12,
   "id": "8fb792be",
   "metadata": {},
   "outputs": [
    {
     "name": "stdout",
     "output_type": "stream",
     "text": [
      "<class 'bool'>\n"
     ]
    }
   ],
   "source": [
    "print (type(True))"
   ]
  },
  {
   "cell_type": "code",
   "execution_count": 13,
   "id": "8489d001",
   "metadata": {},
   "outputs": [
    {
     "name": "stdout",
     "output_type": "stream",
     "text": [
      "<class 'float'>\n"
     ]
    }
   ],
   "source": [
    "print (type(10.01))"
   ]
  },
  {
   "cell_type": "code",
   "execution_count": 14,
   "id": "ae2cb086",
   "metadata": {},
   "outputs": [
    {
     "name": "stdout",
     "output_type": "stream",
     "text": [
      "enter name:john\n",
      "enter age:19\n",
      "My name is,john and i am 19 years old!\n"
     ]
    }
   ],
   "source": [
    "name = input (\"enter name:\")\n",
    "age = input(\"enter age:\")\n",
    "print (f\"My name is,{name} and i am {age} years old!\")"
   ]
  },
  {
   "cell_type": "code",
   "execution_count": 20,
   "id": "0c33bd95",
   "metadata": {},
   "outputs": [
    {
     "name": "stdout",
     "output_type": "stream",
     "text": [
      "26.926\n"
     ]
    }
   ],
   "source": [
    "a = 10\n",
    "b = 25\n",
    "##pythagoras theorem\n",
    "c = ((a**2) + (b**2))**(1/2)\n",
    "print(round(c, 3))"
   ]
  },
  {
   "cell_type": "code",
   "execution_count": 21,
   "id": "df796100",
   "metadata": {},
   "outputs": [
    {
     "name": "stdout",
     "output_type": "stream",
     "text": [
      "1.5874010519681994\n"
     ]
    }
   ],
   "source": [
    "print(4**(1/3))"
   ]
  },
  {
   "cell_type": "code",
   "execution_count": 22,
   "id": "8b4f6af9",
   "metadata": {},
   "outputs": [
    {
     "name": "stdout",
     "output_type": "stream",
     "text": [
      "enter name:  john\n",
      "enter year of birth: 1997\n",
      "my name is john and i am 26.0 years old\n"
     ]
    }
   ],
   "source": [
    "name = input(\"enter name:  \")\n",
    "yb = float(input(\"enter year of birth: \"))\n",
    "print (f\"my name is {name} and i am {2023-yb} years old\")"
   ]
  },
  {
   "cell_type": "markdown",
   "id": "f67ee0eb",
   "metadata": {},
   "source": [
    "# Conditionals"
   ]
  },
  {
   "cell_type": "code",
   "execution_count": 7,
   "id": "09078257",
   "metadata": {},
   "outputs": [
    {
     "name": "stdout",
     "output_type": "stream",
     "text": [
      "enter temperature value: 10\n",
      "temperature is moderate\n"
     ]
    }
   ],
   "source": [
    "temp = float(input(\"enter temperature value: \"))\n",
    "\n",
    "if temp > 20:\n",
    "    print(\"temperature is high\")\n",
    "elif temp >=10 and temp <=19:\n",
    "    print(\"temperature is moderate\")\n",
    "elif temp >=1 and temp <=9:\n",
    "    print(\"temperature is quite low\")\n",
    "elif temp <= 0:\n",
    "    print(\"extremely deadly temperature\")\n",
    "else:\n",
    "    print(\"input not understood\")"
   ]
  },
  {
   "cell_type": "code",
   "execution_count": 4,
   "id": "c9d7eda2",
   "metadata": {},
   "outputs": [
    {
     "name": "stdout",
     "output_type": "stream",
     "text": [
      "enter age: 31\n",
      "enter sex: F\n",
      "an adult female\n"
     ]
    }
   ],
   "source": [
    "age = int (input(\"enter age: \"))\n",
    "sex = input(\"enter sex: \").lower()\n",
    "\n",
    "if age >= 20:\n",
    "    if sex == \"f\":\n",
    "        print(\"an adult female\")\n",
    "    elif sex == \"m\":\n",
    "        print(\"an adult male\")\n",
    "        \n",
    "elif age >= 13 and age <=19:\n",
    "    if sex == \"f\":\n",
    "        print (\"a teenage female\")\n",
    "    elif sex == \"m\":\n",
    "        print(\"a teenage male\")\n",
    "        \n",
    "elif age <= 12:\n",
    "    if sex == \"f\":\n",
    "        print(\"a child female\")\n",
    "    elif sex == \"m\":\n",
    "        print(\"a child male\")\n",
    "        \n",
    "else:\n",
    "    print (\"No input available\")"
   ]
  },
  {
   "cell_type": "markdown",
   "id": "221c2ea9",
   "metadata": {},
   "source": [
    "# Temperature Conversion Program"
   ]
  },
  {
   "cell_type": "code",
   "execution_count": 13,
   "id": "27a78f07",
   "metadata": {},
   "outputs": [
    {
     "name": "stdout",
     "output_type": "stream",
     "text": [
      "enter temperature value here: 47\n",
      "enter unit->f/c: c\n",
      "the temperature value of 47.0 celcius is 116.6 fahrenheit\n"
     ]
    }
   ],
   "source": [
    "temp_value = float(input(\"enter temperature value here: \"))\n",
    "unit = input(\"enter unit->f/c: \").lower()\n",
    "\n",
    "if unit == \"f\":\n",
    "    temp = (temp_value - 32) * (5/9)\n",
    "    if temp <= 100:\n",
    "        kel = 273 + temp\n",
    "        print(f\"the temperature value of {temp_value} fahrenhiet is {round(kel, 3)} kelvin\")\n",
    "    else:\n",
    "        print(f\"the temperature value of {temp_value} fehrenhiet is {round(temp, 3)} celcius\")\n",
    "            \n",
    "elif unit == \"c\":\n",
    "    temp = (temp_value * (9/5)) + 32\n",
    "    print(f\"the temperature value of {temp_value} celcius is {round(temp, 3)} fahrenheit\")\n",
    "else:\n",
    "    print(\"input not understood\")"
   ]
  },
  {
   "cell_type": "markdown",
   "id": "978a3fb5",
   "metadata": {},
   "source": [
    "# Assignment_1"
   ]
  },
  {
   "cell_type": "code",
   "execution_count": null,
   "id": "eb91c0bb",
   "metadata": {},
   "outputs": [],
   "source": [
    "###BMI --> BODY MASS INDEX\n",
    "###Range of value that constitutes high, low and average"
   ]
  },
  {
   "cell_type": "code",
   "execution_count": 3,
   "id": "35a78239",
   "metadata": {},
   "outputs": [
    {
     "name": "stdout",
     "output_type": "stream",
     "text": [
      "Enter your height in cm: 200\n",
      "Enter your weight in kg: 50\n",
      "You BMI is 12.5\n",
      "You are underweight or low.\n"
     ]
    }
   ],
   "source": [
    "height = float(input(\"Enter your height in cm: \"))\n",
    "weight = float(input(\"Enter your weight in kg: \"))\n",
    "\n",
    "BMI = weight / (height/100)**2\n",
    "print(f\"You BMI is {BMI}\")\n",
    "\n",
    "if BMI <= 18.4:\n",
    "    print(\"You are underweight or low.\")\n",
    "elif BMI <= 24.9:\n",
    "    print(\"You are healthy average.\")\n",
    "elif BMI <= 29.9: \n",
    "    print(\"You are over weight or high.\")\n",
    "elif BMI <= 34.9:\n",
    "    print(\"You are severely over weight.\")\n",
    "elif BMI <= 39.9:\n",
    "    print(\"You are obese.\")\n",
    "else:\n",
    "    print(\"You are severely obese.\")"
   ]
  }
 ],
 "metadata": {
  "kernelspec": {
   "display_name": "Python 3 (ipykernel)",
   "language": "python",
   "name": "python3"
  },
  "language_info": {
   "codemirror_mode": {
    "name": "ipython",
    "version": 3
   },
   "file_extension": ".py",
   "mimetype": "text/x-python",
   "name": "python",
   "nbconvert_exporter": "python",
   "pygments_lexer": "ipython3",
   "version": "3.9.13"
  }
 },
 "nbformat": 4,
 "nbformat_minor": 5
}
