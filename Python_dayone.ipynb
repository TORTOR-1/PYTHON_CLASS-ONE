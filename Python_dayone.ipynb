{
 "cells": [
  {
   "cell_type": "code",
   "execution_count": null,
   "id": "428d0498",
   "metadata": {},
   "outputs": [],
   "source": []
  },
  {
   "cell_type": "code",
   "execution_count": null,
   "id": "0d9fbaa6",
   "metadata": {},
   "outputs": [],
   "source": [
    "part one\n",
    "- Data types\n",
    "- Variables\n",
    "- Lists and arrays\n",
    "- Indexing and slicing \n",
    "- Conditionals\n",
    "- Strings and array methods\n",
    "- loops (Forloops and while Loops)\n",
    "- functions\n",
    "- Dictionaries\n",
    "- classes and objects"
   ]
  },
  {
   "cell_type": "code",
   "execution_count": null,
   "id": "6fb08738",
   "metadata": {},
   "outputs": [],
   "source": [
    "Part two\n",
    "- Pandas and numpys\n",
    "- time, date and math libraries\n",
    "- visualization (seaborns and matplotlib)\n"
   ]
  },
  {
   "cell_type": "code",
   "execution_count": null,
   "id": "37d5bffe",
   "metadata": {},
   "outputs": [],
   "source": [
    "Part three (python for data science):\n",
    "    - Data loading\n",
    "    - Data cleaning and data wrangling\n",
    "    - Answering buisness intelligence questions with python\n",
    "    - correlation analysis univariate and bi-variate analysis\n",
    "    - feature engineering \n",
    "    - introduction to predictive modelling (Linear and ploymial regression, logistictic regression and Time series)\n",
    "    - machine learning concepts (supervised and unsupervised learning)"
   ]
  },
  {
   "cell_type": "code",
   "execution_count": null,
   "id": "07405398",
   "metadata": {},
   "outputs": [],
   "source": [
    "part four (frameworks and apis):\n",
    "- python flask\n",
    "- rest and fast api\n",
    "- integrating postgresql (sql automation) in python\n",
    "- extraction transformation and loading (ETL processes with python)"
   ]
  },
  {
   "cell_type": "code",
   "execution_count": null,
   "id": "16227545",
   "metadata": {},
   "outputs": [],
   "source": [
    "job description after the learning \n",
    "- Data scientist, analyst, \n",
    "- backend engineer,\n",
    "- analytics engineer,\n",
    "- buisness intelligence engineer,\n",
    "- data engineer and machine learning engineer"
   ]
  },
  {
   "cell_type": "markdown",
   "id": "f90299dd",
   "metadata": {},
   "source": [
    "# Lets code"
   ]
  },
  {
   "cell_type": "code",
   "execution_count": null,
   "id": "5f2b7e8f",
   "metadata": {},
   "outputs": [],
   "source": [
    "-strings, numeric data and type (integers, floats), booleans (True/False)"
   ]
  },
  {
   "cell_type": "code",
   "execution_count": 1,
   "id": "2d0ee1e0",
   "metadata": {},
   "outputs": [
    {
     "name": "stdout",
     "output_type": "stream",
     "text": [
      "hello class\n"
     ]
    }
   ],
   "source": [
    "print (\"hello class!\")"
   ]
  },
  {
   "cell_type": "code",
   "execution_count": 4,
   "id": "166a3fa5",
   "metadata": {},
   "outputs": [
    {
     "name": "stdout",
     "output_type": "stream",
     "text": [
      "<class 'str'>\n"
     ]
    }
   ],
   "source": [
    "print (type(\"Hello class!\"))"
   ]
  },
  {
   "cell_type": "code",
   "execution_count": 5,
   "id": "31cc308b",
   "metadata": {},
   "outputs": [
    {
     "name": "stdout",
     "output_type": "stream",
     "text": [
      "my name is jake and i am 5 years old!\n"
     ]
    }
   ],
   "source": [
    "print(\"my name is jake and i am 5 years old!\")"
   ]
  },
  {
   "cell_type": "code",
   "execution_count": 6,
   "id": "10c8779f",
   "metadata": {},
   "outputs": [
    {
     "name": "stdout",
     "output_type": "stream",
     "text": [
      "105\n"
     ]
    }
   ],
   "source": [
    "print(\"10\" + \"5\") "
   ]
  },
  {
   "cell_type": "code",
   "execution_count": 7,
   "id": "1ac658a1",
   "metadata": {},
   "outputs": [
    {
     "name": "stdout",
     "output_type": "stream",
     "text": [
      "13.9\n"
     ]
    }
   ],
   "source": [
    "print (10.9 + 3)"
   ]
  },
  {
   "cell_type": "code",
   "execution_count": 8,
   "id": "a5d1d73a",
   "metadata": {},
   "outputs": [
    {
     "name": "stdout",
     "output_type": "stream",
     "text": [
      "True\n"
     ]
    }
   ],
   "source": [
    "print (5==5)"
   ]
  },
  {
   "cell_type": "code",
   "execution_count": 9,
   "id": "f214f018",
   "metadata": {},
   "outputs": [
    {
     "name": "stdout",
     "output_type": "stream",
     "text": [
      "True\n"
     ]
    }
   ],
   "source": [
    "print (10==(2*5))"
   ]
  },
  {
   "cell_type": "code",
   "execution_count": 10,
   "id": "222531f6",
   "metadata": {},
   "outputs": [
    {
     "name": "stdout",
     "output_type": "stream",
     "text": [
      "<class 'str'>\n"
     ]
    }
   ],
   "source": [
    "print (type(\"true\"))"
   ]
  },
  {
   "cell_type": "code",
   "execution_count": 12,
   "id": "8fb792be",
   "metadata": {},
   "outputs": [
    {
     "name": "stdout",
     "output_type": "stream",
     "text": [
      "<class 'bool'>\n"
     ]
    }
   ],
   "source": [
    "print (type(True))"
   ]
  },
  {
   "cell_type": "code",
   "execution_count": 13,
   "id": "8489d001",
   "metadata": {},
   "outputs": [
    {
     "name": "stdout",
     "output_type": "stream",
     "text": [
      "<class 'float'>\n"
     ]
    }
   ],
   "source": [
    "print (type(10.01))"
   ]
  },
  {
   "cell_type": "code",
   "execution_count": 14,
   "id": "ae2cb086",
   "metadata": {},
   "outputs": [
    {
     "name": "stdout",
     "output_type": "stream",
     "text": [
      "enter name:john\n",
      "enter age:19\n",
      "My name is,john and i am 19 years old!\n"
     ]
    }
   ],
   "source": [
    "name = input (\"enter name:\")\n",
    "age = input(\"enter age:\")\n",
    "print (f\"My name is,{name} and i am {age} years old!\")"
   ]
  },
  {
   "cell_type": "code",
   "execution_count": 20,
   "id": "0c33bd95",
   "metadata": {},
   "outputs": [
    {
     "name": "stdout",
     "output_type": "stream",
     "text": [
      "26.926\n"
     ]
    }
   ],
   "source": [
    "a = 10\n",
    "b = 25\n",
    "##pythagoras theorem\n",
    "c = ((a**2) + (b**2))**(1/2)\n",
    "print(round(c, 3))"
   ]
  },
  {
   "cell_type": "code",
   "execution_count": 21,
   "id": "df796100",
   "metadata": {},
   "outputs": [
    {
     "name": "stdout",
     "output_type": "stream",
     "text": [
      "1.5874010519681994\n"
     ]
    }
   ],
   "source": [
    "print(4**(1/3))"
   ]
  },
  {
   "cell_type": "code",
   "execution_count": 22,
   "id": "8b4f6af9",
   "metadata": {},
   "outputs": [
    {
     "name": "stdout",
     "output_type": "stream",
     "text": [
      "enter name:  john\n",
      "enter year of birth: 1997\n",
      "my name is john and i am 26.0 years old\n"
     ]
    }
   ],
   "source": [
    "name = input(\"enter name:  \")\n",
    "yb = float(input(\"enter year of birth: \"))\n",
    "print (f\"my name is {name} and i am {2023-yb} years old\")"
   ]
  },
  {
   "cell_type": "markdown",
   "id": "f67ee0eb",
   "metadata": {},
   "source": [
    "# Conditionals"
   ]
  },
  {
   "cell_type": "code",
   "execution_count": 7,
   "id": "09078257",
   "metadata": {},
   "outputs": [
    {
     "name": "stdout",
     "output_type": "stream",
     "text": [
      "enter temperature value: 10\n",
      "temperature is moderate\n"
     ]
    }
   ],
   "source": [
    "temp = float(input(\"enter temperature value: \"))\n",
    "\n",
    "if temp > 20:\n",
    "    print(\"temperature is high\")\n",
    "elif temp >=10 and temp <=19:\n",
    "    print(\"temperature is moderate\")\n",
    "elif temp >=1 and temp <=9:\n",
    "    print(\"temperature is quite low\")\n",
    "elif temp <= 0:\n",
    "    print(\"extremely deadly temperature\")\n",
    "else:\n",
    "    print(\"input not understood\")"
   ]
  },
  {
   "cell_type": "code",
   "execution_count": 4,
   "id": "c9d7eda2",
   "metadata": {},
   "outputs": [
    {
     "name": "stdout",
     "output_type": "stream",
     "text": [
      "enter age: 31\n",
      "enter sex: F\n",
      "an adult female\n"
     ]
    }
   ],
   "source": [
    "age = int (input(\"enter age: \"))\n",
    "sex = input(\"enter sex: \").lower()\n",
    "\n",
    "if age >= 20:\n",
    "    if sex == \"f\":\n",
    "        print(\"an adult female\")\n",
    "    elif sex == \"m\":\n",
    "        print(\"an adult male\")\n",
    "        \n",
    "elif age >= 13 and age <=19:\n",
    "    if sex == \"f\":\n",
    "        print (\"a teenage female\")\n",
    "    elif sex == \"m\":\n",
    "        print(\"a teenage male\")\n",
    "        \n",
    "elif age <= 12:\n",
    "    if sex == \"f\":\n",
    "        print(\"a child female\")\n",
    "    elif sex == \"m\":\n",
    "        print(\"a child male\")\n",
    "        \n",
    "else:\n",
    "    print (\"No input available\")"
   ]
  },
  {
   "cell_type": "markdown",
   "id": "221c2ea9",
   "metadata": {},
   "source": [
    "# Temperature Conversion Program"
   ]
  },
  {
   "cell_type": "code",
   "execution_count": 13,
   "id": "27a78f07",
   "metadata": {},
   "outputs": [
    {
     "name": "stdout",
     "output_type": "stream",
     "text": [
      "enter temperature value here: 47\n",
      "enter unit->f/c: c\n",
      "the temperature value of 47.0 celcius is 116.6 fahrenheit\n"
     ]
    }
   ],
   "source": [
    "temp_value = float(input(\"enter temperature value here: \"))\n",
    "unit = input(\"enter unit->f/c: \").lower()\n",
    "\n",
    "if unit == \"f\":\n",
    "    temp = (temp_value - 32) * (5/9)\n",
    "    if temp <= 100:\n",
    "        kel = 273 + temp\n",
    "        print(f\"the temperature value of {temp_value} fahrenhiet is {round(kel, 3)} kelvin\")\n",
    "    else:\n",
    "        print(f\"the temperature value of {temp_value} fehrenhiet is {round(temp, 3)} celcius\")\n",
    "            \n",
    "elif unit == \"c\":\n",
    "    temp = (temp_value * (9/5)) + 32\n",
    "    print(f\"the temperature value of {temp_value} celcius is {round(temp, 3)} fahrenheit\")\n",
    "else:\n",
    "    print(\"input not understood\")"
   ]
  },
  {
   "cell_type": "markdown",
   "id": "978a3fb5",
   "metadata": {},
   "source": [
    "# Assignment_1"
   ]
  },
  {
   "cell_type": "code",
   "execution_count": null,
   "id": "eb91c0bb",
   "metadata": {},
   "outputs": [],
   "source": [
    "###BMI --> BODY MASS INDEX\n",
    "###Range of value that constitutes high, low and average"
   ]
  },
  {
   "cell_type": "code",
   "execution_count": 3,
   "id": "35a78239",
   "metadata": {},
   "outputs": [
    {
     "name": "stdout",
     "output_type": "stream",
     "text": [
      "Enter your height in cm: 200\n",
      "Enter your weight in kg: 50\n",
      "You BMI is 12.5\n",
      "You are underweight or low.\n"
     ]
    }
   ],
   "source": [
    "height = float(input(\"Enter your height in cm: \"))\n",
    "weight = float(input(\"Enter your weight in kg: \"))\n",
    "\n",
    "BMI = weight / (height/100)**2\n",
    "print(f\"You BMI is {BMI}\")\n",
    "\n",
    "if BMI <= 18.4:\n",
    "    print(\"You are underweight or low.\")\n",
    "elif BMI <= 24.9:\n",
    "    print(\"You are healthy average.\")\n",
    "elif BMI <= 29.9: \n",
    "    print(\"You are over weight or high.\")\n",
    "elif BMI <= 34.9:\n",
    "    print(\"You are severely over weight.\")\n",
    "elif BMI <= 39.9:\n",
    "    print(\"You are obese.\")\n",
    "else:\n",
    "    print(\"You are severely obese.\")"
   ]
  },
  {
   "cell_type": "markdown",
   "id": "ea4be73a",
   "metadata": {},
   "source": [
    "# Assignment Correction"
   ]
  },
  {
   "cell_type": "code",
   "execution_count": 6,
   "id": "82257468",
   "metadata": {},
   "outputs": [
    {
     "name": "stdout",
     "output_type": "stream",
     "text": [
      "enter weight value: 45\n",
      "enter height value: 65\n",
      "enter unit for weight: n\n",
      "enter unit for height: m\n",
      " this is my bmi value = 0.0010650887573964497 and it is low\n"
     ]
    }
   ],
   "source": [
    "weight = float(input(\"enter weight value: \"))\n",
    "height = float(input(\"enter height value: \"))\n",
    "unit_weight = input(\"enter unit for weight: \") .lower()\n",
    "unit_height = input(\"enter unit for height: \") .lower()\n",
    "bmi = (weight/10)/(height**2)\n",
    "\n",
    "if unit_weight == \"n\" and unit_height == \"m\":\n",
    "    if bmi >=25:\n",
    "        print(f\"my bmi is {bmi} and it is high!\")\n",
    "    elif bmi >=18 and bmi <=24.9:\n",
    "        print(f\"my bmis is {bmi} and it is average\")\n",
    "    else:\n",
    "        print(f\" this is my bmi value = {bmi} and it is low\")\n",
    "            \n",
    "else:\n",
    "    print(\"unit not defined in the program!\")\n",
    "    \n",
    "# if unit weight == \"p\" and unit_height == \"fit\":\n",
    "#     if bmi >=29:\n",
    "#         print(\"your bmi is high\")\n",
    "#     elif bmi >=15 and bmi<= 28:\n",
    "#         print(\"your bmi is average\")\n",
    "#    else:\n",
    "#        print(f\"this is my bmi value = {bmi} and it is low\")"
   ]
  },
  {
   "cell_type": "markdown",
   "id": "14c24d8c",
   "metadata": {},
   "source": [
    "# ASSIGNMENT 2"
   ]
  },
  {
   "cell_type": "code",
   "execution_count": null,
   "id": "d6212df2",
   "metadata": {},
   "outputs": [],
   "source": [
    "1. if the age to vote is from 18 and above\n",
    "2. and the condition to vote require a pvc\n",
    "write a program that ask users for their age and if they have pvc. if they do, grant them access to vote., if they don't do not do not grant them access to vote\n",
    "question 2.\n",
    "if the person is qualified to vote\n",
    "if the person is from south, east they should vote obi, if the person is from north, south west vote asiwaju vote atiku"
   ]
  },
  {
   "cell_type": "code",
   "execution_count": 4,
   "id": "800c51d5",
   "metadata": {},
   "outputs": [
    {
     "name": "stdout",
     "output_type": "stream",
     "text": [
      "enter age: 22\n",
      "do you have a pvc?: yes\n",
      "where is voter from?: south-west\n",
      "vote asiwaju!!!\n"
     ]
    }
   ],
   "source": [
    "age = int(input(\"enter age: \"))\n",
    "pvc = input(\"do you have a pvc?: \")\n",
    "voter = input(\"where is voter from?: \")\n",
    "\n",
    "if age >= 18 and pvc == \"yes\":\n",
    "    if voter == \"south-south\" or voter == \"east\":\n",
    "        print(\"vote obi\")\n",
    "    elif voter == \"north\" or  voter == \"south-west\":\n",
    "        print(\"vote asiwaju!!!\")\n",
    "    else:\n",
    "        print(\"vote atiku\")\n",
    "        \n",
    "elif ange < 18 and pvc == \"no\":\n",
    "    print(\"access denied to vote\")\n",
    "else:\n",
    "    print(\"access denied to vote!!!\")"
   ]
  },
  {
   "cell_type": "markdown",
   "id": "3ea0446c",
   "metadata": {},
   "source": [
    "# Class work 01/02/2023"
   ]
  },
  {
   "cell_type": "code",
   "execution_count": null,
   "id": "66782b3c",
   "metadata": {},
   "outputs": [],
   "source": [
    "- if change in temperature of a house defines the \"livability\" of a house\n",
    "define t1 as input\n",
    "define t2 as input\n",
    "calculate the temperature change\n",
    "\n",
    "- if the temp is less than 0 celcius \n",
    "add temperature +273\n",
    "if temperature is greater than 500 kelvin say temperature is extremely low\n",
    "if temperature is less than 500 kelvin say temperature is moderately low\n",
    "\n",
    "\n",
    "- if the temp is greater than 0 celcius, say temperature too high"
   ]
  },
  {
   "cell_type": "code",
   "execution_count": 10,
   "id": "cb08bf93",
   "metadata": {},
   "outputs": [
    {
     "name": "stdout",
     "output_type": "stream",
     "text": [
      "enter t1: 14\n",
      "enter t2: 25\n",
      "11.0celcius: temperature is too high\n"
     ]
    }
   ],
   "source": [
    "t1 = float(input(\"enter t1: \"))\n",
    "t2 = float (input(\"enter t2: \"))\n",
    "temp = t2-t1\n",
    "\n",
    "\n",
    "if temp < 0:\n",
    "    kelvin = temp +273\n",
    "    if kelvin > 500:\n",
    "        print(f\"{kelvin}kelvin: temperature is extremely low\")\n",
    "    elif kelvin < 500:\n",
    "        print(f\"{kelvin}kelvin: temperature is moderrately low\")\n",
    "    \n",
    "        \n",
    "elif temp > 0:\n",
    "    print(f\"{temp}celcius: temperature is too high\")\n",
    "    \n",
    "else:\n",
    "    print(\"inputs not understood!!!\")"
   ]
  },
  {
   "cell_type": "markdown",
   "id": "098dfac3",
   "metadata": {},
   "source": [
    "# List and Arrays"
   ]
  },
  {
   "cell_type": "code",
   "execution_count": null,
   "id": "232896e5",
   "metadata": {},
   "outputs": [],
   "source": [
    "##Arrays Method\n",
    "-sort()\n",
    "-print()"
   ]
  },
  {
   "cell_type": "code",
   "execution_count": 13,
   "id": "d782a2f5",
   "metadata": {},
   "outputs": [
    {
     "name": "stdout",
     "output_type": "stream",
     "text": [
      "[1, 3, 5, 10]\n"
     ]
    }
   ],
   "source": [
    "a = [1, 5, 10, 3]\n",
    "a.sort()\n",
    "print(a)"
   ]
  },
  {
   "cell_type": "code",
   "execution_count": 18,
   "id": "14beeed4",
   "metadata": {},
   "outputs": [],
   "source": [
    "b = [6, 9, 10, 11]"
   ]
  },
  {
   "cell_type": "code",
   "execution_count": 25,
   "id": "712fc06c",
   "metadata": {},
   "outputs": [
    {
     "name": "stdout",
     "output_type": "stream",
     "text": [
      "[1, 3, 5, 10, 6, 9, 10, 11]\n"
     ]
    }
   ],
   "source": [
    "c = a + b\n",
    "print(c)"
   ]
  },
  {
   "cell_type": "code",
   "execution_count": 26,
   "id": "6d5b9a53",
   "metadata": {},
   "outputs": [
    {
     "name": "stdout",
     "output_type": "stream",
     "text": [
      "[1, 3, 5, 10, 6, 9, 10, 11, True]\n"
     ]
    }
   ],
   "source": [
    "c.append(True)\n",
    "print(c)"
   ]
  },
  {
   "cell_type": "code",
   "execution_count": 28,
   "id": "c0f63fb4",
   "metadata": {},
   "outputs": [
    {
     "name": "stdout",
     "output_type": "stream",
     "text": [
      "[1, 3, 5, 10, 6, 9, 10, 11, True, [5, 10, 11], [5, 10, 11]]\n"
     ]
    }
   ],
   "source": [
    "k = [5, 10, 11]\n",
    "c.append(k)\n",
    "print(c)"
   ]
  },
  {
   "cell_type": "markdown",
   "id": "f7f81441",
   "metadata": {},
   "source": [
    "# #Forloops "
   ]
  },
  {
   "cell_type": "code",
   "execution_count": 29,
   "id": "beb9f2c2",
   "metadata": {},
   "outputs": [
    {
     "name": "stdout",
     "output_type": "stream",
     "text": [
      "2\n",
      "4\n",
      "7\n",
      "9\n",
      "3\n",
      "1\n"
     ]
    }
   ],
   "source": [
    "arr = [2, 4, 7, 9, 3, 1]\n",
    "for i in arr:\n",
    "    print(i)"
   ]
  },
  {
   "cell_type": "code",
   "execution_count": 30,
   "id": "36702408",
   "metadata": {},
   "outputs": [
    {
     "name": "stdout",
     "output_type": "stream",
     "text": [
      "7\n",
      "9\n",
      "3\n",
      "1\n"
     ]
    }
   ],
   "source": [
    "for i in arr: \n",
    "    if i%2 != 0:\n",
    "        print(i)"
   ]
  },
  {
   "cell_type": "code",
   "execution_count": 34,
   "id": "18b61b48",
   "metadata": {},
   "outputs": [
    {
     "name": "stdout",
     "output_type": "stream",
     "text": [
      "[2, 4]\n"
     ]
    }
   ],
   "source": [
    "arr1 = []\n",
    "arr2 = []\n",
    "for i in arr:\n",
    "    if i%2 != 0:\n",
    "        arr1.append(i)\n",
    "    if i%2 == 0:\n",
    "        arr2.append(i)\n",
    "print(arr2)"
   ]
  },
  {
   "cell_type": "code",
   "execution_count": 7,
   "id": "11111fd5",
   "metadata": {},
   "outputs": [
    {
     "name": "stdout",
     "output_type": "stream",
     "text": [
      "15.5\n"
     ]
    }
   ],
   "source": [
    "a = [True, False, 10, 15.5, 21, \"jannet\", \"tobi\", 9, True]\n",
    "\n",
    "for i in a:\n",
    "    if type (i) == float:\n",
    "        print(i)"
   ]
  },
  {
   "cell_type": "code",
   "execution_count": 8,
   "id": "ac97d936",
   "metadata": {},
   "outputs": [
    {
     "name": "stdout",
     "output_type": "stream",
     "text": [
      "[True, False, True]\n"
     ]
    }
   ],
   "source": [
    "p = []\n",
    "for i in a:\n",
    "    if type (i) == bool:\n",
    "        p.append(i)\n",
    "        \n",
    "print(p)"
   ]
  },
  {
   "cell_type": "code",
   "execution_count": 9,
   "id": "77e8f6bb",
   "metadata": {},
   "outputs": [
    {
     "name": "stdout",
     "output_type": "stream",
     "text": [
      "True\n"
     ]
    }
   ],
   "source": [
    "print(i)"
   ]
  },
  {
   "cell_type": "code",
   "execution_count": 10,
   "id": "ad99e6b9",
   "metadata": {},
   "outputs": [
    {
     "name": "stdout",
     "output_type": "stream",
     "text": [
      "[True, False, True]\n"
     ]
    }
   ],
   "source": [
    "p = []\n",
    "for i in a:\n",
    "    if type(i) ==bool:\n",
    "        p.append(i)\n",
    "\n",
    "print(p)"
   ]
  },
  {
   "cell_type": "code",
   "execution_count": 15,
   "id": "4d97e922",
   "metadata": {},
   "outputs": [
    {
     "name": "stdout",
     "output_type": "stream",
     "text": [
      "[8, 5, 7, 3]\n"
     ]
    }
   ],
   "source": [
    "numb = [10, 16, 11, 8, 12, 5, 7, 3, 20]\n",
    "arr = []\n",
    "for i in numb:\n",
    "    if i < 10:\n",
    "        arr.append(i)\n",
    "        \n",
    "print(arr)"
   ]
  },
  {
   "cell_type": "code",
   "execution_count": 16,
   "id": "3722940d",
   "metadata": {},
   "outputs": [
    {
     "name": "stdout",
     "output_type": "stream",
     "text": [
      "[11, 5, 7, 3]\n",
      "[10, 16, 8, 12, 20]\n"
     ]
    }
   ],
   "source": [
    "##find odd and even numbers\n",
    "\n",
    "odd_numb = []\n",
    "even_numb = []\n",
    "\n",
    "for i in numb:\n",
    "    if i%2 == 0:\n",
    "        even_numb.append(i)\n",
    "    elif i%2 != 0:\n",
    "        odd_numb.append(i)\n",
    "\n",
    "print(odd_numb)\n",
    "print(even_numb)"
   ]
  },
  {
   "cell_type": "code",
   "execution_count": null,
   "id": "c0533839",
   "metadata": {},
   "outputs": [],
   "source": [
    "## how to use arrYs"
   ]
  },
  {
   "cell_type": "code",
   "execution_count": 19,
   "id": "afd78109",
   "metadata": {},
   "outputs": [
    {
     "name": "stdout",
     "output_type": "stream",
     "text": [
      "[10, 20, 11, 8, 10, 6, 1]\n"
     ]
    }
   ],
   "source": [
    "arrYs = [10, 20, 11, 8, 10, 6, 1]\n",
    "print(arrYs)"
   ]
  },
  {
   "cell_type": "code",
   "execution_count": 22,
   "id": "988c2d72",
   "metadata": {},
   "outputs": [
    {
     "name": "stdout",
     "output_type": "stream",
     "text": [
      "10\n",
      "10\n"
     ]
    }
   ],
   "source": [
    "for i in arrYs:\n",
    "    if i == 10:\n",
    "        print(i)"
   ]
  },
  {
   "cell_type": "code",
   "execution_count": 23,
   "id": "9cfae97d",
   "metadata": {},
   "outputs": [
    {
     "name": "stdout",
     "output_type": "stream",
     "text": [
      "(0, 10)\n",
      "(1, 20)\n",
      "(2, 11)\n",
      "(3, 8)\n",
      "(4, 10)\n",
      "(5, 6)\n",
      "(6, 1)\n"
     ]
    }
   ],
   "source": [
    "for i in enumerate(arrYs):\n",
    "    print(i)"
   ]
  },
  {
   "cell_type": "code",
   "execution_count": 27,
   "id": "e0b9e7be",
   "metadata": {},
   "outputs": [
    {
     "name": "stdout",
     "output_type": "stream",
     "text": [
      "0 10\n",
      "1 20\n",
      "2 11\n",
      "3 8\n",
      "4 10\n",
      "5 6\n",
      "6 1\n"
     ]
    }
   ],
   "source": [
    "for i, b in enumerate(arrYs):\n",
    "    print(i, b)"
   ]
  },
  {
   "cell_type": "code",
   "execution_count": 28,
   "id": "46a6e5e3",
   "metadata": {},
   "outputs": [
    {
     "name": "stdout",
     "output_type": "stream",
     "text": [
      "0\n",
      "4\n"
     ]
    }
   ],
   "source": [
    "for i, b in enumerate(arrYs):\n",
    "    if b == 10:\n",
    "        print(i)"
   ]
  },
  {
   "cell_type": "code",
   "execution_count": 29,
   "id": "6dff07e1",
   "metadata": {},
   "outputs": [
    {
     "name": "stdout",
     "output_type": "stream",
     "text": [
      "0\n",
      "0\n"
     ]
    }
   ],
   "source": [
    "for i in arrYs:\n",
    "    if i == 10:\n",
    "        print(arrYs. index(i))"
   ]
  },
  {
   "cell_type": "code",
   "execution_count": 30,
   "id": "a56c592c",
   "metadata": {},
   "outputs": [
    {
     "data": {
      "text/plain": [
       "0"
      ]
     },
     "execution_count": 30,
     "metadata": {},
     "output_type": "execute_result"
    }
   ],
   "source": [
    "###test\n",
    "z = [10, 10, 11, 2]\n",
    "z.index(10)"
   ]
  },
  {
   "cell_type": "code",
   "execution_count": 34,
   "id": "b63f5a93",
   "metadata": {},
   "outputs": [
    {
     "name": "stdout",
     "output_type": "stream",
     "text": [
      "4\n",
      "4\n"
     ]
    }
   ],
   "source": [
    "z = [13, 46, 56, 8, 10, 10]\n",
    "for i in z:\n",
    "    if i == 10:\n",
    "        print(z.index(i))"
   ]
  },
  {
   "cell_type": "code",
   "execution_count": 36,
   "id": "c8e4b9d8",
   "metadata": {},
   "outputs": [
    {
     "name": "stdout",
     "output_type": "stream",
     "text": [
      "0\n",
      "0\n"
     ]
    }
   ],
   "source": [
    "z = [10, 10, 11, 2]\n",
    "for i in z:\n",
    "    if i == 10:\n",
    "        print(z.index(i))"
   ]
  },
  {
   "cell_type": "code",
   "execution_count": 37,
   "id": "da828517",
   "metadata": {},
   "outputs": [
    {
     "name": "stdout",
     "output_type": "stream",
     "text": [
      "0\n",
      "1\n"
     ]
    }
   ],
   "source": [
    "for i, b in enumerate(z):\n",
    "    if b == 10:\n",
    "        print(i)\n",
    "    "
   ]
  },
  {
   "cell_type": "code",
   "execution_count": 38,
   "id": "efb15f7c",
   "metadata": {},
   "outputs": [
    {
     "name": "stdout",
     "output_type": "stream",
     "text": [
      "[0, 2, 6]\n"
     ]
    }
   ],
   "source": [
    "k = [5, 1, 5, 10, 11, 9, 5, 1]\n",
    "index_values = []\n",
    "for i, b in enumerate(k):\n",
    "    if b == 5:\n",
    "        index_values.append(i)\n",
    "print(index_values)"
   ]
  },
  {
   "cell_type": "code",
   "execution_count": 39,
   "id": "3944d12c",
   "metadata": {},
   "outputs": [
    {
     "data": {
      "text/plain": [
       "6"
      ]
     },
     "execution_count": 39,
     "metadata": {},
     "output_type": "execute_result"
    }
   ],
   "source": [
    "index_values[2]"
   ]
  },
  {
   "cell_type": "code",
   "execution_count": 40,
   "id": "c3287464",
   "metadata": {},
   "outputs": [
    {
     "data": {
      "text/plain": [
       "[10, 11, 9]"
      ]
     },
     "execution_count": 40,
     "metadata": {},
     "output_type": "execute_result"
    }
   ],
   "source": [
    "k[index_values[1]+1:index_values[2]]"
   ]
  },
  {
   "cell_type": "code",
   "execution_count": 41,
   "id": "c3d77a25",
   "metadata": {},
   "outputs": [],
   "source": [
    "#print(k[])"
   ]
  },
  {
   "cell_type": "code",
   "execution_count": null,
   "id": "754f4f9e",
   "metadata": {},
   "outputs": [],
   "source": [
    "###assignment 1.\n",
    "1. list = [11, 10, 8, 12, 1, 5, 6, 8, 10, 1, 8, 22, 7, 4]\n",
    "get the index values of 8\n",
    "2. get all the values after the second index value of 8"
   ]
  },
  {
   "cell_type": "code",
   "execution_count": null,
   "id": "99ca282d",
   "metadata": {},
   "outputs": [],
   "source": [
    "###assignment 2.\n",
    "Get all the food that starts with a and store inside an array\n",
    "foods = [\"apple\", \"guava\", \"garri\", \"beans\", \"beans,\", \"accara\", \"acute-bons\"]\n"
   ]
  }
 ],
 "metadata": {
  "kernelspec": {
   "display_name": "Python 3 (ipykernel)",
   "language": "python",
   "name": "python3"
  },
  "language_info": {
   "codemirror_mode": {
    "name": "ipython",
    "version": 3
   },
   "file_extension": ".py",
   "mimetype": "text/x-python",
   "name": "python",
   "nbconvert_exporter": "python",
   "pygments_lexer": "ipython3",
   "version": "3.9.13"
  }
 },
 "nbformat": 4,
 "nbformat_minor": 5
}
