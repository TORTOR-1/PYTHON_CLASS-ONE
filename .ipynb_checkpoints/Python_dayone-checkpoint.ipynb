{
 "cells": [
  {
   "cell_type": "code",
   "execution_count": null,
   "id": "428d0498",
   "metadata": {},
   "outputs": [],
   "source": []
  },
  {
   "cell_type": "code",
   "execution_count": null,
   "id": "0d9fbaa6",
   "metadata": {},
   "outputs": [],
   "source": [
    "part one\n",
    "- Data types\n",
    "- Variables\n",
    "- Lists and arrays\n",
    "- Indexing and slicing \n",
    "- Conditionals\n",
    "- Strings and array methods\n",
    "- loops (Forloops and while Loops)\n",
    "- functions\n",
    "- Dictionaries\n",
    "- classes and objects"
   ]
  },
  {
   "cell_type": "code",
   "execution_count": null,
   "id": "6fb08738",
   "metadata": {},
   "outputs": [],
   "source": [
    "Part two\n",
    "- Pandas and numpys\n",
    "- time, date and math libraries\n",
    "- visualization (seaborns and matplotlib)\n"
   ]
  },
  {
   "cell_type": "code",
   "execution_count": null,
   "id": "37d5bffe",
   "metadata": {},
   "outputs": [],
   "source": [
    "Part three (python for data science):\n",
    "    - Data loading\n",
    "    - Data cleaning and data wrangling\n",
    "    - Answering buisness intelligence questions with python\n",
    "    - correlation analysis univariate and bi-variate analysis\n",
    "    - feature engineering \n",
    "    - introduction to predictive modelling (Linear and ploymial regression, logistictic regression and Time series)\n",
    "    - machine learning concepts (supervised and unsupervised learning)"
   ]
  },
  {
   "cell_type": "code",
   "execution_count": null,
   "id": "07405398",
   "metadata": {},
   "outputs": [],
   "source": [
    "part four (frameworks and apis):\n",
    "- python flask\n",
    "- rest and fast api\n",
    "- integrating postgresql (sql automation) in python\n",
    "- extraction transformation and loading (ETL processes with python)"
   ]
  },
  {
   "cell_type": "code",
   "execution_count": null,
   "id": "16227545",
   "metadata": {},
   "outputs": [],
   "source": [
    "job description after the learning \n",
    "- Data scientist, analyst, \n",
    "- backend engineer,\n",
    "- analytics engineer,\n",
    "- buisness intelligence engineer,\n",
    "- data engineer and machine learning engineer"
   ]
  },
  {
   "cell_type": "markdown",
   "id": "f90299dd",
   "metadata": {},
   "source": [
    "# Lets code"
   ]
  },
  {
   "cell_type": "code",
   "execution_count": null,
   "id": "5f2b7e8f",
   "metadata": {},
   "outputs": [],
   "source": [
    "-strings, numeric data and type (integers, floats), booleans (True/False)"
   ]
  },
  {
   "cell_type": "code",
   "execution_count": 1,
   "id": "2d0ee1e0",
   "metadata": {},
   "outputs": [
    {
     "name": "stdout",
     "output_type": "stream",
     "text": [
      "hello class\n"
     ]
    }
   ],
   "source": [
    "print (\"hello class!\")"
   ]
  },
  {
   "cell_type": "code",
   "execution_count": 4,
   "id": "166a3fa5",
   "metadata": {},
   "outputs": [
    {
     "name": "stdout",
     "output_type": "stream",
     "text": [
      "<class 'str'>\n"
     ]
    }
   ],
   "source": [
    "print (type(\"Hello class!\"))"
   ]
  },
  {
   "cell_type": "code",
   "execution_count": 5,
   "id": "31cc308b",
   "metadata": {},
   "outputs": [
    {
     "name": "stdout",
     "output_type": "stream",
     "text": [
      "my name is jake and i am 5 years old!\n"
     ]
    }
   ],
   "source": [
    "print(\"my name is jake and i am 5 years old!\")"
   ]
  },
  {
   "cell_type": "code",
   "execution_count": 6,
   "id": "10c8779f",
   "metadata": {},
   "outputs": [
    {
     "name": "stdout",
     "output_type": "stream",
     "text": [
      "105\n"
     ]
    }
   ],
   "source": [
    "print(\"10\" + \"5\") "
   ]
  },
  {
   "cell_type": "code",
   "execution_count": 7,
   "id": "1ac658a1",
   "metadata": {},
   "outputs": [
    {
     "name": "stdout",
     "output_type": "stream",
     "text": [
      "13.9\n"
     ]
    }
   ],
   "source": [
    "print (10.9 + 3)"
   ]
  },
  {
   "cell_type": "code",
   "execution_count": 8,
   "id": "a5d1d73a",
   "metadata": {},
   "outputs": [
    {
     "name": "stdout",
     "output_type": "stream",
     "text": [
      "True\n"
     ]
    }
   ],
   "source": [
    "print (5==5)"
   ]
  },
  {
   "cell_type": "code",
   "execution_count": 9,
   "id": "f214f018",
   "metadata": {},
   "outputs": [
    {
     "name": "stdout",
     "output_type": "stream",
     "text": [
      "True\n"
     ]
    }
   ],
   "source": [
    "print (10==(2*5))"
   ]
  },
  {
   "cell_type": "code",
   "execution_count": 10,
   "id": "222531f6",
   "metadata": {},
   "outputs": [
    {
     "name": "stdout",
     "output_type": "stream",
     "text": [
      "<class 'str'>\n"
     ]
    }
   ],
   "source": [
    "print (type(\"true\"))"
   ]
  },
  {
   "cell_type": "code",
   "execution_count": 12,
   "id": "8fb792be",
   "metadata": {},
   "outputs": [
    {
     "name": "stdout",
     "output_type": "stream",
     "text": [
      "<class 'bool'>\n"
     ]
    }
   ],
   "source": [
    "print (type(True))"
   ]
  },
  {
   "cell_type": "code",
   "execution_count": 13,
   "id": "8489d001",
   "metadata": {},
   "outputs": [
    {
     "name": "stdout",
     "output_type": "stream",
     "text": [
      "<class 'float'>\n"
     ]
    }
   ],
   "source": [
    "print (type(10.01))"
   ]
  },
  {
   "cell_type": "code",
   "execution_count": 14,
   "id": "ae2cb086",
   "metadata": {},
   "outputs": [
    {
     "name": "stdout",
     "output_type": "stream",
     "text": [
      "enter name:john\n",
      "enter age:19\n",
      "My name is,john and i am 19 years old!\n"
     ]
    }
   ],
   "source": [
    "name = input (\"enter name:\")\n",
    "age = input(\"enter age:\")\n",
    "print (f\"My name is,{name} and i am {age} years old!\")"
   ]
  },
  {
   "cell_type": "code",
   "execution_count": 20,
   "id": "0c33bd95",
   "metadata": {},
   "outputs": [
    {
     "name": "stdout",
     "output_type": "stream",
     "text": [
      "26.926\n"
     ]
    }
   ],
   "source": [
    "a = 10\n",
    "b = 25\n",
    "##pythagoras theorem\n",
    "c = ((a**2) + (b**2))**(1/2)\n",
    "print(round(c, 3))"
   ]
  },
  {
   "cell_type": "code",
   "execution_count": 21,
   "id": "df796100",
   "metadata": {},
   "outputs": [
    {
     "name": "stdout",
     "output_type": "stream",
     "text": [
      "1.5874010519681994\n"
     ]
    }
   ],
   "source": [
    "print(4**(1/3))"
   ]
  },
  {
   "cell_type": "code",
   "execution_count": 22,
   "id": "8b4f6af9",
   "metadata": {},
   "outputs": [
    {
     "name": "stdout",
     "output_type": "stream",
     "text": [
      "enter name:  john\n",
      "enter year of birth: 1997\n",
      "my name is john and i am 26.0 years old\n"
     ]
    }
   ],
   "source": [
    "name = input(\"enter name:  \")\n",
    "yb = float(input(\"enter year of birth: \"))\n",
    "print (f\"my name is {name} and i am {2023-yb} years old\")"
   ]
  },
  {
   "cell_type": "code",
   "execution_count": null,
   "id": "5f548a7e",
   "metadata": {},
   "outputs": [],
   "source": []
  }
 ],
 "metadata": {
  "kernelspec": {
   "display_name": "Python 3 (ipykernel)",
   "language": "python",
   "name": "python3"
  },
  "language_info": {
   "codemirror_mode": {
    "name": "ipython",
    "version": 3
   },
   "file_extension": ".py",
   "mimetype": "text/x-python",
   "name": "python",
   "nbconvert_exporter": "python",
   "pygments_lexer": "ipython3",
   "version": "3.9.13"
  }
 },
 "nbformat": 4,
 "nbformat_minor": 5
}
